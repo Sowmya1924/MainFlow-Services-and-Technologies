{
 "cells": [
  {
   "cell_type": "markdown",
   "id": "27837c9c",
   "metadata": {},
   "source": [
    "# Lists"
   ]
  },
  {
   "cell_type": "code",
   "execution_count": 1,
   "id": "31bfe800",
   "metadata": {},
   "outputs": [],
   "source": [
    "# Definition:\n",
    "# A list can be defined as a Collection of values or items of different types and these collections are enclosed with [] \n",
    "# and Seperated by comma"
   ]
  },
  {
   "cell_type": "markdown",
   "id": "6ab81ef1",
   "metadata": {},
   "source": [
    "Creating a List"
   ]
  },
  {
   "cell_type": "code",
   "execution_count": 2,
   "id": "6c746f7c",
   "metadata": {},
   "outputs": [
    {
     "name": "stdout",
     "output_type": "stream",
     "text": [
      "[19, 'Rani', 50.0, 'Paris']\n"
     ]
    }
   ],
   "source": [
    "list1=[19,'Rani',50.0,'Paris']\n",
    "print(list1)"
   ]
  },
  {
   "cell_type": "markdown",
   "id": "c0b3c3c7",
   "metadata": {},
   "source": [
    "# List Operations"
   ]
  },
  {
   "cell_type": "code",
   "execution_count": 3,
   "id": "88b6e6e2",
   "metadata": {},
   "outputs": [],
   "source": [
    "# The Operations we can perfom on a list are: Adding,Accessing,Modifying\n",
    "# The methods used for performing list operations are :(Append,insert,extend,index,slicing,delete,remove,pop(),clear(),reverse)"
   ]
  },
  {
   "cell_type": "code",
   "execution_count": 4,
   "id": "05c0061f",
   "metadata": {},
   "outputs": [],
   "source": [
    "#Modifying the lists"
   ]
  },
  {
   "cell_type": "markdown",
   "id": "b49d7e8e",
   "metadata": {},
   "source": [
    "1.Adding the elements into a List"
   ]
  },
  {
   "cell_type": "code",
   "execution_count": 5,
   "id": "664a8068",
   "metadata": {},
   "outputs": [],
   "source": [
    "#This can be performed by using Three methods those are: Append,Insert and Extend."
   ]
  },
  {
   "cell_type": "code",
   "execution_count": 6,
   "id": "30edaa9b",
   "metadata": {},
   "outputs": [
    {
     "name": "stdout",
     "output_type": "stream",
     "text": [
      "[19, 'Rani', 50.0, 'Paris', 100]\n"
     ]
    }
   ],
   "source": [
    "#Syntax of append : var.append(element)\n",
    "list1.append(100)\n",
    "print(list1)"
   ]
  },
  {
   "cell_type": "code",
   "execution_count": 7,
   "id": "d1924223",
   "metadata": {},
   "outputs": [
    {
     "name": "stdout",
     "output_type": "stream",
     "text": [
      "[19, [1, 2, 3], 'Rani', 50.0, 'Paris', 100]\n"
     ]
    }
   ],
   "source": [
    "#Syntax of Insert: var.insert(index,element)\n",
    "list1.insert(1,[1,2,3])\n",
    "print(list1)"
   ]
  },
  {
   "cell_type": "code",
   "execution_count": 8,
   "id": "16d6f65d",
   "metadata": {},
   "outputs": [
    {
     "name": "stdout",
     "output_type": "stream",
     "text": [
      "[19, [1, 2, 3], 'Rani', 50.0, 'Paris', 100, 'abc', 9.29]\n"
     ]
    }
   ],
   "source": [
    "#Syntax of Extend: var.extend(another list)\n",
    "list2=['abc',9.29]\n",
    "list1.extend(list2)\n",
    "print(list1)"
   ]
  },
  {
   "cell_type": "markdown",
   "id": "db337a31",
   "metadata": {},
   "source": [
    "2.Accessing the element at Particular Index."
   ]
  },
  {
   "cell_type": "code",
   "execution_count": 9,
   "id": "7b336686",
   "metadata": {},
   "outputs": [
    {
     "name": "stdout",
     "output_type": "stream",
     "text": [
      "Rani\n",
      "3\n",
      "9.29\n"
     ]
    }
   ],
   "source": [
    "print(list1[2])\n",
    "print(list1[1][2])\n",
    "print(list1[-1])"
   ]
  },
  {
   "cell_type": "markdown",
   "id": "cbfa2c97",
   "metadata": {},
   "source": [
    "3.Slicing"
   ]
  },
  {
   "cell_type": "code",
   "execution_count": 10,
   "id": "0b787158",
   "metadata": {},
   "outputs": [
    {
     "name": "stdout",
     "output_type": "stream",
     "text": [
      "[19, [1, 2, 3], 'Rani']\n"
     ]
    }
   ],
   "source": [
    "print(list1[0:3])"
   ]
  },
  {
   "cell_type": "code",
   "execution_count": 11,
   "id": "70657f42",
   "metadata": {},
   "outputs": [
    {
     "name": "stdout",
     "output_type": "stream",
     "text": [
      "[50.0, 'Paris', 100, 'abc', 9.29]\n"
     ]
    }
   ],
   "source": [
    "print(list1[3:])"
   ]
  },
  {
   "cell_type": "markdown",
   "id": "f81c70a0",
   "metadata": {},
   "source": [
    "4.Removing the elements in a List."
   ]
  },
  {
   "cell_type": "code",
   "execution_count": 12,
   "id": "f3c47b53",
   "metadata": {},
   "outputs": [
    {
     "name": "stdout",
     "output_type": "stream",
     "text": [
      "[19, [1, 2, 3], 'Rani', 50.0, 'Paris', 100, 9.29]\n"
     ]
    }
   ],
   "source": [
    "#Syntax Of delete :del var[index]\n",
    "#At a particular index the element is Removed.\n",
    "\n",
    "del list1[6]            \n",
    "print(list1)"
   ]
  },
  {
   "cell_type": "code",
   "execution_count": 13,
   "id": "52602b03",
   "metadata": {},
   "outputs": [
    {
     "name": "stdout",
     "output_type": "stream",
     "text": [
      "[19, [1, 2, 3], 'Rani', 50.0, 'Paris', 9.29]\n"
     ]
    }
   ],
   "source": [
    "#Syntax of Remove: var.remove(element)\n",
    "\n",
    "list1.remove(100)\n",
    "print(list1)"
   ]
  },
  {
   "cell_type": "code",
   "execution_count": 14,
   "id": "680ac84a",
   "metadata": {},
   "outputs": [
    {
     "name": "stdout",
     "output_type": "stream",
     "text": [
      "[19, [1, 2, 3], 'Rani', 50.0, 'Paris']\n"
     ]
    }
   ],
   "source": [
    "#Syntax of pop : var.pop() it means it removes the last element.\n",
    "list1.pop()\n",
    "print(list1)"
   ]
  },
  {
   "cell_type": "code",
   "execution_count": 15,
   "id": "42f7f4d7",
   "metadata": {},
   "outputs": [
    {
     "name": "stdout",
     "output_type": "stream",
     "text": [
      "[]\n"
     ]
    }
   ],
   "source": [
    "list2.clear()  #which removes the entire elements in the list.\n",
    "print(list2)"
   ]
  },
  {
   "cell_type": "markdown",
   "id": "b894eb2e",
   "metadata": {},
   "source": [
    "5.Reversing a list"
   ]
  },
  {
   "cell_type": "code",
   "execution_count": 16,
   "id": "4554b4c4",
   "metadata": {},
   "outputs": [
    {
     "name": "stdout",
     "output_type": "stream",
     "text": [
      "['Paris', 50.0, 'Rani', [1, 2, 3], 19]\n"
     ]
    }
   ],
   "source": [
    "list1.reverse()\n",
    "print(list1)"
   ]
  },
  {
   "cell_type": "markdown",
   "id": "4779b523",
   "metadata": {},
   "source": [
    "# Dictionaries"
   ]
  },
  {
   "cell_type": "code",
   "execution_count": 17,
   "id": "732977b3",
   "metadata": {},
   "outputs": [],
   "source": [
    "#Definition:it can be defined as a collection of values or items of different types sorted in key-value format.\n",
    "#It can be enclose with {} and the key-value are seperated with colon."
   ]
  },
  {
   "cell_type": "markdown",
   "id": "a393000a",
   "metadata": {},
   "source": [
    "Creating a Dictionary"
   ]
  },
  {
   "cell_type": "code",
   "execution_count": 18,
   "id": "4b02b23a",
   "metadata": {},
   "outputs": [
    {
     "name": "stdout",
     "output_type": "stream",
     "text": [
      "{'name': 'Ram', 'age': 20, 'courses': ['Math', 'Machine Learning', 'Data Science']}\n"
     ]
    }
   ],
   "source": [
    "dict1={'name':'Ram','age':20,'courses':['Math','Machine Learning','Data Science']}\n",
    "print(dict1)"
   ]
  },
  {
   "cell_type": "markdown",
   "id": "0c7e5466",
   "metadata": {},
   "source": [
    "# Dict Operations"
   ]
  },
  {
   "cell_type": "code",
   "execution_count": 19,
   "id": "32d84b2d",
   "metadata": {},
   "outputs": [],
   "source": [
    "# The Operations we can perfom on a dictionaries are: Adding,Accessing,Modifying.\n",
    "# The methods used for performing dict operations are :(get(),update(),del,pop(),keys(),values(),items(),clear())"
   ]
  },
  {
   "cell_type": "markdown",
   "id": "6314c14b",
   "metadata": {},
   "source": [
    "1.Adding the elements into a Dictionary."
   ]
  },
  {
   "cell_type": "code",
   "execution_count": 20,
   "id": "edf2f95e",
   "metadata": {},
   "outputs": [
    {
     "name": "stdout",
     "output_type": "stream",
     "text": [
      "{'name': 'Ram', 'age': 20, 'courses': ['Math', 'Machine Learning', 'Data Science'], 'id': 13}\n"
     ]
    }
   ],
   "source": [
    "#Syntax : var[key]=value\n",
    "\n",
    "dict1['id']=13\n",
    "print(dict1)"
   ]
  },
  {
   "cell_type": "markdown",
   "id": "c68b7924",
   "metadata": {},
   "source": [
    "2.Accesing the Particular element through Keys. "
   ]
  },
  {
   "cell_type": "code",
   "execution_count": 21,
   "id": "6e51d8ae",
   "metadata": {},
   "outputs": [
    {
     "name": "stdout",
     "output_type": "stream",
     "text": [
      "['Math', 'Machine Learning', 'Data Science']\n"
     ]
    }
   ],
   "source": [
    "#Syntax of accessing in dictionary :var[key] gives the value of a particular key.\n",
    "\n",
    "print(dict1['courses'])"
   ]
  },
  {
   "cell_type": "markdown",
   "id": "8a440f02",
   "metadata": {},
   "source": [
    "3.Modifying the value"
   ]
  },
  {
   "cell_type": "code",
   "execution_count": 22,
   "id": "fe534a3b",
   "metadata": {},
   "outputs": [
    {
     "name": "stdout",
     "output_type": "stream",
     "text": [
      "{'name': 'Ram', 'age': 21, 'courses': ['Math', 'Machine Learning', 'Data Science'], 'id': 13}\n"
     ]
    }
   ],
   "source": [
    "dict1['age']=21\n",
    "print(dict1)"
   ]
  },
  {
   "cell_type": "code",
   "execution_count": 23,
   "id": "afbb573e",
   "metadata": {},
   "outputs": [
    {
     "name": "stdout",
     "output_type": "stream",
     "text": [
      "{'name': 'Rani', 'age': 21, 'courses': ['Math', 'Machine Learning', 'Data Science'], 'id': 13}\n"
     ]
    }
   ],
   "source": [
    "dict1.update({'name':'Rani' })\n",
    "print(dict1)"
   ]
  },
  {
   "cell_type": "code",
   "execution_count": 24,
   "id": "599bd8a9",
   "metadata": {},
   "outputs": [
    {
     "name": "stdout",
     "output_type": "stream",
     "text": [
      "Rani\n"
     ]
    }
   ],
   "source": [
    "#The get method is used to get the value of the particular key.\n",
    "\n",
    "print(dict1.get('name'))"
   ]
  },
  {
   "cell_type": "code",
   "execution_count": 25,
   "id": "9504ba2a",
   "metadata": {},
   "outputs": [
    {
     "name": "stdout",
     "output_type": "stream",
     "text": [
      "None\n"
     ]
    }
   ],
   "source": [
    "print(dict1.get('Name'))"
   ]
  },
  {
   "cell_type": "markdown",
   "id": "3a6e90f8",
   "metadata": {},
   "source": [
    "4.Removing the elements"
   ]
  },
  {
   "cell_type": "code",
   "execution_count": 26,
   "id": "4b3b5992",
   "metadata": {},
   "outputs": [
    {
     "name": "stdout",
     "output_type": "stream",
     "text": [
      "{'name': 'Rani', 'courses': ['Math', 'Machine Learning', 'Data Science'], 'id': 13}\n"
     ]
    }
   ],
   "source": [
    "#Syntax for deleting a particular value : del var[key]\n",
    "\n",
    "del dict1['age']\n",
    "print(dict1)"
   ]
  },
  {
   "cell_type": "code",
   "execution_count": 27,
   "id": "83060f91",
   "metadata": {},
   "outputs": [
    {
     "name": "stdout",
     "output_type": "stream",
     "text": [
      "{'name': 'Rani', 'courses': ['Math', 'Machine Learning', 'Data Science']}\n"
     ]
    }
   ],
   "source": [
    "dict1.pop('id')\n",
    "print(dict1)"
   ]
  },
  {
   "cell_type": "code",
   "execution_count": 28,
   "id": "cb518135",
   "metadata": {},
   "outputs": [
    {
     "name": "stdout",
     "output_type": "stream",
     "text": [
      "dict_keys(['name', 'courses'])\n"
     ]
    }
   ],
   "source": [
    "print(dict1.keys()) #it prints all keys present in a dictionary. "
   ]
  },
  {
   "cell_type": "code",
   "execution_count": 29,
   "id": "4ea2ed94",
   "metadata": {},
   "outputs": [
    {
     "name": "stdout",
     "output_type": "stream",
     "text": [
      "dict_values(['Rani', ['Math', 'Machine Learning', 'Data Science']])\n"
     ]
    }
   ],
   "source": [
    "print(dict1.values()) #it prints all values present in a dictionary."
   ]
  },
  {
   "cell_type": "code",
   "execution_count": 30,
   "id": "93599d97",
   "metadata": {},
   "outputs": [
    {
     "name": "stdout",
     "output_type": "stream",
     "text": [
      "dict_items([('name', 'Rani'), ('courses', ['Math', 'Machine Learning', 'Data Science'])])\n"
     ]
    }
   ],
   "source": [
    "print(dict1.items()) #it prints comma seperated key- values."
   ]
  },
  {
   "cell_type": "code",
   "execution_count": 31,
   "id": "2831c4b5",
   "metadata": {},
   "outputs": [
    {
     "name": "stdout",
     "output_type": "stream",
     "text": [
      "{}\n"
     ]
    }
   ],
   "source": [
    "dict1.clear()\n",
    "print(dict1)"
   ]
  },
  {
   "cell_type": "markdown",
   "id": "92524a77",
   "metadata": {},
   "source": [
    "# Sets"
   ]
  },
  {
   "cell_type": "code",
   "execution_count": 32,
   "id": "a602a8ed",
   "metadata": {},
   "outputs": [],
   "source": [
    "#Definition:\n",
    "#A set can be defined as a Collection of values or items of different types and these collections are enclosed with {}\n",
    "# and Seperated by comma"
   ]
  },
  {
   "cell_type": "markdown",
   "id": "2548e0ff",
   "metadata": {},
   "source": [
    "Creating a set"
   ]
  },
  {
   "cell_type": "code",
   "execution_count": 33,
   "id": "869832f7",
   "metadata": {},
   "outputs": [
    {
     "name": "stdout",
     "output_type": "stream",
     "text": [
      "{1, 100, 'cherry', 56, 13, 78}\n"
     ]
    }
   ],
   "source": [
    "set1={13,56,78,1,'cherry',100,1}\n",
    "print(set1)"
   ]
  },
  {
   "cell_type": "code",
   "execution_count": 34,
   "id": "8e91109b",
   "metadata": {},
   "outputs": [],
   "source": [
    "# The Operations we can perfom on a sets are: Adding,Accessing,removing.\n",
    "# The methods used for performing set operations are :(add(ele),union,intersection,discard,clear)"
   ]
  },
  {
   "cell_type": "markdown",
   "id": "8ebe0279",
   "metadata": {},
   "source": [
    " 1.Adding the Elements into a Set."
   ]
  },
  {
   "cell_type": "code",
   "execution_count": 35,
   "id": "4a8f3955",
   "metadata": {},
   "outputs": [
    {
     "name": "stdout",
     "output_type": "stream",
     "text": [
      "{1, 100, 'cherry', 56, 92, 13, 78}\n"
     ]
    }
   ],
   "source": [
    "set1.add(92) #add method is used to insert the element into sets and sets doesn't have an order ,\n",
    "print(set1)                     # hence it can insert the value at any position.\n"
   ]
  },
  {
   "cell_type": "code",
   "execution_count": 36,
   "id": "2b2f420e",
   "metadata": {},
   "outputs": [
    {
     "name": "stdout",
     "output_type": "stream",
     "text": [
      "7\n"
     ]
    }
   ],
   "source": [
    "print(len(set1))"
   ]
  },
  {
   "cell_type": "markdown",
   "id": "268a7829",
   "metadata": {},
   "source": [
    "2.Accessing the Elements"
   ]
  },
  {
   "cell_type": "code",
   "execution_count": 37,
   "id": "8a9f36dd",
   "metadata": {},
   "outputs": [
    {
     "name": "stdout",
     "output_type": "stream",
     "text": [
      "1\n",
      "100\n",
      "cherry\n",
      "56\n",
      "92\n",
      "13\n",
      "78\n"
     ]
    }
   ],
   "source": [
    "for x in set1:  #sets are unorded.so, the items has no index .\n",
    "                #that's why we are using loops to iterate each and every element present in the set. \n",
    "        print(x)\n",
    "    "
   ]
  },
  {
   "cell_type": "markdown",
   "id": "54a9a803",
   "metadata": {},
   "source": [
    "3.Set Operations"
   ]
  },
  {
   "cell_type": "code",
   "execution_count": 38,
   "id": "48ab7d99",
   "metadata": {},
   "outputs": [
    {
     "name": "stdout",
     "output_type": "stream",
     "text": [
      "{1, 2, 3, 4, 5, 6, 7, 8, 9}\n"
     ]
    }
   ],
   "source": [
    "s1={1,2,3,4,5}         #updating can be done with two sets.\n",
    "s2={7,8,9}\n",
    "s1.update([6,7,8],s2)\n",
    "print(s1)"
   ]
  },
  {
   "cell_type": "code",
   "execution_count": 39,
   "id": "413a748a",
   "metadata": {},
   "outputs": [
    {
     "name": "stdout",
     "output_type": "stream",
     "text": [
      "{1, 2, 3, 4, 5}\n"
     ]
    }
   ],
   "source": [
    "s3={1,2,3}\n",
    "s4={2,4,5}\n",
    "res=s3.union(s4)\n",
    "print(res)\n"
   ]
  },
  {
   "cell_type": "code",
   "execution_count": 40,
   "id": "5708dacb",
   "metadata": {},
   "outputs": [
    {
     "name": "stdout",
     "output_type": "stream",
     "text": [
      "{2}\n"
     ]
    }
   ],
   "source": [
    "res2=s3.intersection(s4)\n",
    "print(res2)"
   ]
  },
  {
   "cell_type": "markdown",
   "id": "b7877137",
   "metadata": {},
   "source": [
    "4.Removing the elements"
   ]
  },
  {
   "cell_type": "code",
   "execution_count": 41,
   "id": "f46bead1",
   "metadata": {},
   "outputs": [
    {
     "name": "stdout",
     "output_type": "stream",
     "text": [
      "{1, 100, 56, 92, 13, 78}\n"
     ]
    }
   ],
   "source": [
    "set1.remove('cherry') #if the element is not their in a set it gives an error.\n",
    "print(set1)"
   ]
  },
  {
   "cell_type": "code",
   "execution_count": 42,
   "id": "61cca79c",
   "metadata": {},
   "outputs": [
    {
     "name": "stdout",
     "output_type": "stream",
     "text": [
      "{1, 100, 56, 92, 13, 78}\n"
     ]
    }
   ],
   "source": [
    "set1.discard(90) #if the element is not their in a set,it does not give any error. \n",
    "print(set1)"
   ]
  },
  {
   "cell_type": "code",
   "execution_count": 47,
   "id": "8fb84812",
   "metadata": {},
   "outputs": [
    {
     "name": "stdout",
     "output_type": "stream",
     "text": [
      "set()\n"
     ]
    }
   ],
   "source": [
    "set1.clear()\n",
    "print(set1)"
   ]
  }
 ],
 "metadata": {
  "kernelspec": {
   "display_name": "Python 3 (ipykernel)",
   "language": "python",
   "name": "python3"
  },
  "language_info": {
   "codemirror_mode": {
    "name": "ipython",
    "version": 3
   },
   "file_extension": ".py",
   "mimetype": "text/x-python",
   "name": "python",
   "nbconvert_exporter": "python",
   "pygments_lexer": "ipython3",
   "version": "3.11.0"
  }
 },
 "nbformat": 4,
 "nbformat_minor": 5
}
